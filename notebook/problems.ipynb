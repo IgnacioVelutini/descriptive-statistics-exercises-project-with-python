{
    "cells": [
        {
            "cell_type": "markdown",
            "id": "ac622319",
            "metadata": {},
            "source": [
                "# Descriptive statistics problems"
            ]
        },
        {
            "cell_type": "markdown",
            "id": "5e0ab0d5",
            "metadata": {},
            "source": [
                "### Exercise 1\n",
                "\n",
                "We will use NumPy to obtain information to describe statistically.\n",
                "\n",
                "- Generate an array of 100 elements following a normal distribution.\n",
                "- Generate an array of 100 elements following a chi-square distribution with 3 degrees of freedom.\n",
                "- Calculate the main metrics and statistical measures that best describe the two vectors."
            ]
        },
        {
            "cell_type": "code",
            "execution_count": 1,
            "id": "34720ab6",
            "metadata": {},
            "outputs": [
                {
                    "name": "stdout",
                    "output_type": "stream",
                    "text": [
                        "Statistics for Normal Distribution Array:\n",
                        "Mean: -0.03\n",
                        "Median: -0.09\n",
                        "Standard Deviation: 1.01\n",
                        "Variance: 1.03\n",
                        "Minimum: -1.94\n",
                        "Maximum: 3.08\n",
                        "25th Percentile: -0.83\n",
                        "75th Percentile: 0.71\n",
                        "\n",
                        "Statistics for Chi-square Distribution Array:\n",
                        "Mean: 2.88\n",
                        "Median: 2.57\n",
                        "Standard Deviation: 2.12\n",
                        "Variance: 4.48\n",
                        "Minimum: 0.10\n",
                        "Maximum: 9.98\n",
                        "25th Percentile: 1.04\n",
                        "75th Percentile: 4.30\n"
                    ]
                }
            ],
            "source": [
                "# Import libraries\n",
                "import numpy as np\n",
                "\n",
                "# Generate an array of 100 elements following a normal distribution\n",
                "normal_array = np.random.normal(loc=0, scale=1, size=100)\n",
                "\n",
                "# Generate an array of 100 elements following a chi-square distribution with 3 degrees of freedom\n",
                "chi_square_array = np.random.chisquare(df=3, size=100)\n",
                "\n",
                "# Calculate main metrics for both arrays\n",
                "def calculate_statistics(array):\n",
                "    return {\n",
                "        'Mean': np.mean(array),\n",
                "        'Median': np.median(array),\n",
                "        'Standard Deviation': np.std(array),\n",
                "        'Variance': np.var(array),\n",
                "        'Minimum': np.min(array),\n",
                "        'Maximum': np.max(array),\n",
                "        '25th Percentile': np.percentile(array, 25),\n",
                "        '75th Percentile': np.percentile(array, 75)\n",
                "    }\n",
                "\n",
                "# Calculate and print statistics for normal distribution array\n",
                "normal_stats = calculate_statistics(normal_array)\n",
                "print(\"Statistics for Normal Distribution Array:\")\n",
                "for key, value in normal_stats.items():\n",
                "    print(f\"{key}: {value:.2f}\")\n",
                "\n",
                "# Calculate and print statistics for chi-square distribution array\n",
                "chi_square_stats = calculate_statistics(chi_square_array)\n",
                "print(\"\\nStatistics for Chi-square Distribution Array:\")\n",
                "for key, value in chi_square_stats.items():\n",
                "    print(f\"{key}: {value:.2f}\")\n"
            ]
        },
        {
            "cell_type": "markdown",
            "id": "46c70c3d",
            "metadata": {},
            "source": [
                "### Exercise 2\n",
                "\n",
                "Write a Python program to calculate the standard deviation of the following data:\n",
                "\n",
                "```py\n",
                "data = [4, 2, 5, 8, 6]\n",
                "```"
            ]
        },
        {
            "cell_type": "code",
            "execution_count": 9,
            "id": "d590308e",
            "metadata": {},
            "outputs": [
                {
                    "name": "stdout",
                    "output_type": "stream",
                    "text": [
                        "Standard Deviation Is: 2.23606797749979\n"
                    ]
                }
            ],
            "source": [
                "# Import library\n",
                "\n",
                "# data = [4, 2, 5, 8, 6]\n",
                "\n",
                "# std_deviation = np.std(data)\n",
                "# print(f\"The standard deviation of the data is: {std_deviation:.2f}\")\n",
                "\n",
                "\n",
                "import math\n",
                "import sys\n",
                "\n",
                "def sd_calc(data):\n",
                "    n = len(data)\n",
                "\n",
                "    if (n <= 1):\n",
                "        return 0.0\n",
                "\n",
                "    mean, sd = avg_calc(data), 0.0\n",
                "\n",
                "    for d in data:\n",
                "        sd += (float(d) - mean) ** 2\n",
                "    sd = math.sqrt(sd / float(n - 1))\n",
                "\n",
                "    return sd\n",
                "\n",
                "def avg_calc(data):\n",
                "    n, mean = len(data), 0.0\n",
                "\n",
                "    if (n <= 1):\n",
                "        return data[0]\n",
                "\n",
                "    for d in data:\n",
                "        mean = mean + float(d)\n",
                "\n",
                "    mean = mean / float(n)\n",
                "    return mean\n",
                "\n",
                "\n",
                "data = [4, 2, 5, 8, 6]\n",
                "print(f\"Standard Deviation Is: {sd_calc(data)}\")\n"
            ]
        }
    ],
    "metadata": {
        "interpreter": {
            "hash": "9248718ffe6ce6938b217e69dbcc175ea21f4c6b28a317e96c05334edae734bb"
        },
        "kernelspec": {
            "display_name": "Python 3.9.12 ('ML-BOOTCAMP')",
            "language": "python",
            "name": "python3"
        },
        "language_info": {
            "codemirror_mode": {
                "name": "ipython",
                "version": 3
            },
            "file_extension": ".py",
            "mimetype": "text/x-python",
            "name": "python",
            "nbconvert_exporter": "python",
            "pygments_lexer": "ipython3",
            "version": "3.11.4"
        }
    },
    "nbformat": 4,
    "nbformat_minor": 5
}
